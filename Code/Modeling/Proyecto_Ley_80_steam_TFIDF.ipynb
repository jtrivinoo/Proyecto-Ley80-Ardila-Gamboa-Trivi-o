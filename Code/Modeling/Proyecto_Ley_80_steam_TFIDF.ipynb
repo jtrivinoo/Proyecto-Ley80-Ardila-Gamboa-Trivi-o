{
  "cells": [
    {
      "cell_type": "markdown",
      "metadata": {
        "id": "2xvqxkUevmnv"
      },
      "source": [
        "# Steam"
      ]
    },
    {
      "attachments": {},
      "cell_type": "markdown",
      "metadata": {},
      "source": [
        "__author__ = \"Andres Ardila, Johan Triviño, Jenny Gamboa\"\n",
        "__maintainer__ = \"Proyecto de Profundización\"\n",
        "__copyright__ = \"Copyright 2023\"\n",
        "__version__ = \"0.0.1\""
      ]
    },
    {
      "cell_type": "markdown",
      "metadata": {
        "id": "JmJTnXcKvtYl"
      },
      "source": [
        "Técnica del procesamiento de lenguaje natural, usado principalmente para la preparación de texto o documentos, para su posterior procesamiento, su principal función es reducir las palabras a su forma raiz y asignar las palabras a esta forma.  "
      ]
    },
    {
      "cell_type": "markdown",
      "metadata": {
        "id": "pppu6MbluHDm"
      },
      "source": [
        "- Librerias requeridas para el modelo."
      ]
    },
    {
      "cell_type": "markdown",
      "metadata": {
        "id": "7j4JtFoc6iy3"
      },
      "source": [
        "## TF-IDF"
      ]
    },
    {
      "cell_type": "markdown",
      "metadata": {
        "id": "_22DFRSq6oRO"
      },
      "source": [
        "Modelo encargado identificar las palabras mas relevantes de un texto para así asociar este documento a un tema en especifico o simplemente saber con cuales palabras tiene mas relación."
      ]
    },
    {
      "cell_type": "code",
      "execution_count": null,
      "metadata": {
        "colab": {
          "base_uri": "https://localhost:8080/"
        },
        "id": "JDZhiFKYt6jp",
        "outputId": "108e7d0c-4d97-4a8c-ddd9-fd28d69174c5"
      },
      "outputs": [
        {
          "name": "stderr",
          "output_type": "stream",
          "text": [
            "[nltk_data] Downloading package stopwords to /root/nltk_data...\n",
            "[nltk_data]   Unzipping corpora/stopwords.zip.\n"
          ]
        }
      ],
      "source": [
        "import pandas as pd\n",
        "import re \n",
        "import nltk\n",
        "nltk.download('stopwords')\n",
        "from nltk.corpus import stopwords\n",
        "stopwords=set(stopwords.words('spanish'))\n",
        "from nltk.stem import SnowballStemmer\n",
        "from sklearn.metrics.pairwise import cosine_distances\n",
        "from sklearn.metrics.pairwise import euclidean_distances\n",
        "import numpy as np\n",
        "from sklearn.feature_extraction.text import TfidfVectorizer\n",
        "from ipywidgets import interact\n",
        "import ipywidgets as widgets\n",
        "from IPython.core.display import display,HTML\n",
        "from google.colab import files\n",
        "from sklearn.feature_extraction.text import TfidfVectorizer\n",
        "from sklearn.linear_model import LogisticRegression\n",
        "from sklearn.metrics import confusion_matrix, roc_curve, roc_auc_score\n",
        "import matplotlib.pyplot as plt\n",
        "from sklearn.model_selection import train_test_split, cross_val_score\n",
        "from wordcloud import WordCloud"
      ]
    },
    {
      "cell_type": "markdown",
      "metadata": {
        "id": "kVUnxGhbtrzG"
      },
      "source": [
        "- Comunicación con drive "
      ]
    },
    {
      "cell_type": "code",
      "execution_count": null,
      "metadata": {
        "colab": {
          "base_uri": "https://localhost:8080/"
        },
        "id": "YImdqZRu4tlz",
        "outputId": "9fccc23c-92b5-4ac8-b323-36b320bc22b3"
      },
      "outputs": [
        {
          "name": "stdout",
          "output_type": "stream",
          "text": [
            "Mounted at /content/drive\n"
          ]
        }
      ],
      "source": [
        "from google.colab import drive\n",
        "drive.mount('/content/drive')"
      ]
    },
    {
      "cell_type": "markdown",
      "metadata": {
        "id": "OwpmvCdtt0gq"
      },
      "source": [
        "- LLamado del archivo csv del normograma."
      ]
    },
    {
      "cell_type": "code",
      "execution_count": null,
      "metadata": {
        "id": "3JbyerjCGrvL"
      },
      "outputs": [],
      "source": [
        "url =\"/content/drive/MyDrive/concatenado/procesado_normas.json\""
      ]
    },
    {
      "cell_type": "code",
      "execution_count": null,
      "metadata": {
        "colab": {
          "base_uri": "https://localhost:8080/"
        },
        "id": "ozqqt_jqGrvM",
        "outputId": "1973499d-c4c4-46c4-d4dc-5ec33c54f99e"
      },
      "outputs": [
        {
          "data": {
            "text/plain": [
              "(665, 4)"
            ]
          },
          "execution_count": 5,
          "metadata": {},
          "output_type": "execute_result"
        }
      ],
      "source": [
        "Norma=pd.read_json(url, encoding='utf-8-sig')\n",
        "Norma.shape"
      ]
    },
    {
      "cell_type": "code",
      "execution_count": null,
      "metadata": {
        "colab": {
          "base_uri": "https://localhost:8080/",
          "height": 424
        },
        "id": "mPTwIopH78Pe",
        "outputId": "c731647f-d7ea-4bc5-b88f-f93c200ffd3d"
      },
      "outputs": [
        {
          "data": {
            "text/html": [
              "\n",
              "  <div id=\"df-dc6301aa-0aa1-471d-844a-cfe1d8920c0e\">\n",
              "    <div class=\"colab-df-container\">\n",
              "      <div>\n",
              "<style scoped>\n",
              "    .dataframe tbody tr th:only-of-type {\n",
              "        vertical-align: middle;\n",
              "    }\n",
              "\n",
              "    .dataframe tbody tr th {\n",
              "        vertical-align: top;\n",
              "    }\n",
              "\n",
              "    .dataframe thead th {\n",
              "        text-align: right;\n",
              "    }\n",
              "</style>\n",
              "<table border=\"1\" class=\"dataframe\">\n",
              "  <thead>\n",
              "    <tr style=\"text-align: right;\">\n",
              "      <th></th>\n",
              "      <th>index</th>\n",
              "      <th>No_Articulo</th>\n",
              "      <th>Contenido_Articulo</th>\n",
              "      <th>Norma</th>\n",
              "    </tr>\n",
              "  </thead>\n",
              "  <tbody>\n",
              "    <tr>\n",
              "      <th>0</th>\n",
              "      <td>0</td>\n",
              "      <td>Artículo 1.</td>\n",
              "      <td>Artículo 1. Publicidad de proyectos de pliegos...</td>\n",
              "      <td>Decreto_2170_de_2002</td>\n",
              "    </tr>\n",
              "    <tr>\n",
              "      <th>1</th>\n",
              "      <td>1</td>\n",
              "      <td>Artículo 11.</td>\n",
              "      <td>Artículo 11. Menor Cuantía. Para la celebració...</td>\n",
              "      <td>Decreto_2170_de_2002</td>\n",
              "    </tr>\n",
              "    <tr>\n",
              "      <th>2</th>\n",
              "      <td>2</td>\n",
              "      <td>Artículo 12.</td>\n",
              "      <td>Artículo 12. Del sistema de conformación dinám...</td>\n",
              "      <td>Decreto_2170_de_2002</td>\n",
              "    </tr>\n",
              "    <tr>\n",
              "      <th>3</th>\n",
              "      <td>3</td>\n",
              "      <td>Artículo 13.</td>\n",
              "      <td>Artículo 13. De los contratos de prestación de...</td>\n",
              "      <td>Decreto_2170_de_2002</td>\n",
              "    </tr>\n",
              "    <tr>\n",
              "      <th>4</th>\n",
              "      <td>4</td>\n",
              "      <td>Artículo 14.</td>\n",
              "      <td>Artículo 14. Modificado por el art. 1, Decreto...</td>\n",
              "      <td>Decreto_2170_de_2002</td>\n",
              "    </tr>\n",
              "    <tr>\n",
              "      <th>...</th>\n",
              "      <td>...</td>\n",
              "      <td>...</td>\n",
              "      <td>...</td>\n",
              "      <td>...</td>\n",
              "    </tr>\n",
              "    <tr>\n",
              "      <th>660</th>\n",
              "      <td>84</td>\n",
              "      <td>ARTÍCULO 81º.</td>\n",
              "      <td>ARTÍCULO 81º. De la Derogatoria y de la Vigenc...</td>\n",
              "      <td>Ley_80_de_1993</td>\n",
              "    </tr>\n",
              "    <tr>\n",
              "      <th>661</th>\n",
              "      <td>85</td>\n",
              "      <td>ARTÍCULO 8º.</td>\n",
              "      <td>ARTÍCULO 8º. De las Inhabilidades e Incompatib...</td>\n",
              "      <td>Ley_80_de_1993</td>\n",
              "    </tr>\n",
              "    <tr>\n",
              "      <th>662</th>\n",
              "      <td>86</td>\n",
              "      <td>ARTÍCULO 9A.</td>\n",
              "      <td>ARTÍCULO 9A. Adicionado por el art. 8, Ley 201...</td>\n",
              "      <td>Ley_80_de_1993</td>\n",
              "    </tr>\n",
              "    <tr>\n",
              "      <th>663</th>\n",
              "      <td>87</td>\n",
              "      <td>ARTÍCULO 9º.</td>\n",
              "      <td>ARTÍCULO 9º. De las Inhabilidades e Incompatib...</td>\n",
              "      <td>Ley_80_de_1993</td>\n",
              "    </tr>\n",
              "    <tr>\n",
              "      <th>664</th>\n",
              "      <td>88</td>\n",
              "      <td>Introduccion</td>\n",
              "      <td>Ley80de1993GestorNormativo Departamento Admini...</td>\n",
              "      <td>Ley_80_de_1993</td>\n",
              "    </tr>\n",
              "  </tbody>\n",
              "</table>\n",
              "<p>665 rows × 4 columns</p>\n",
              "</div>\n",
              "      <button class=\"colab-df-convert\" onclick=\"convertToInteractive('df-dc6301aa-0aa1-471d-844a-cfe1d8920c0e')\"\n",
              "              title=\"Convert this dataframe to an interactive table.\"\n",
              "              style=\"display:none;\">\n",
              "        \n",
              "  <svg xmlns=\"http://www.w3.org/2000/svg\" height=\"24px\"viewBox=\"0 0 24 24\"\n",
              "       width=\"24px\">\n",
              "    <path d=\"M0 0h24v24H0V0z\" fill=\"none\"/>\n",
              "    <path d=\"M18.56 5.44l.94 2.06.94-2.06 2.06-.94-2.06-.94-.94-2.06-.94 2.06-2.06.94zm-11 1L8.5 8.5l.94-2.06 2.06-.94-2.06-.94L8.5 2.5l-.94 2.06-2.06.94zm10 10l.94 2.06.94-2.06 2.06-.94-2.06-.94-.94-2.06-.94 2.06-2.06.94z\"/><path d=\"M17.41 7.96l-1.37-1.37c-.4-.4-.92-.59-1.43-.59-.52 0-1.04.2-1.43.59L10.3 9.45l-7.72 7.72c-.78.78-.78 2.05 0 2.83L4 21.41c.39.39.9.59 1.41.59.51 0 1.02-.2 1.41-.59l7.78-7.78 2.81-2.81c.8-.78.8-2.07 0-2.86zM5.41 20L4 18.59l7.72-7.72 1.47 1.35L5.41 20z\"/>\n",
              "  </svg>\n",
              "      </button>\n",
              "      \n",
              "  <style>\n",
              "    .colab-df-container {\n",
              "      display:flex;\n",
              "      flex-wrap:wrap;\n",
              "      gap: 12px;\n",
              "    }\n",
              "\n",
              "    .colab-df-convert {\n",
              "      background-color: #E8F0FE;\n",
              "      border: none;\n",
              "      border-radius: 50%;\n",
              "      cursor: pointer;\n",
              "      display: none;\n",
              "      fill: #1967D2;\n",
              "      height: 32px;\n",
              "      padding: 0 0 0 0;\n",
              "      width: 32px;\n",
              "    }\n",
              "\n",
              "    .colab-df-convert:hover {\n",
              "      background-color: #E2EBFA;\n",
              "      box-shadow: 0px 1px 2px rgba(60, 64, 67, 0.3), 0px 1px 3px 1px rgba(60, 64, 67, 0.15);\n",
              "      fill: #174EA6;\n",
              "    }\n",
              "\n",
              "    [theme=dark] .colab-df-convert {\n",
              "      background-color: #3B4455;\n",
              "      fill: #D2E3FC;\n",
              "    }\n",
              "\n",
              "    [theme=dark] .colab-df-convert:hover {\n",
              "      background-color: #434B5C;\n",
              "      box-shadow: 0px 1px 3px 1px rgba(0, 0, 0, 0.15);\n",
              "      filter: drop-shadow(0px 1px 2px rgba(0, 0, 0, 0.3));\n",
              "      fill: #FFFFFF;\n",
              "    }\n",
              "  </style>\n",
              "\n",
              "      <script>\n",
              "        const buttonEl =\n",
              "          document.querySelector('#df-dc6301aa-0aa1-471d-844a-cfe1d8920c0e button.colab-df-convert');\n",
              "        buttonEl.style.display =\n",
              "          google.colab.kernel.accessAllowed ? 'block' : 'none';\n",
              "\n",
              "        async function convertToInteractive(key) {\n",
              "          const element = document.querySelector('#df-dc6301aa-0aa1-471d-844a-cfe1d8920c0e');\n",
              "          const dataTable =\n",
              "            await google.colab.kernel.invokeFunction('convertToInteractive',\n",
              "                                                     [key], {});\n",
              "          if (!dataTable) return;\n",
              "\n",
              "          const docLinkHtml = 'Like what you see? Visit the ' +\n",
              "            '<a target=\"_blank\" href=https://colab.research.google.com/notebooks/data_table.ipynb>data table notebook</a>'\n",
              "            + ' to learn more about interactive tables.';\n",
              "          element.innerHTML = '';\n",
              "          dataTable['output_type'] = 'display_data';\n",
              "          await google.colab.output.renderOutput(dataTable, element);\n",
              "          const docLink = document.createElement('div');\n",
              "          docLink.innerHTML = docLinkHtml;\n",
              "          element.appendChild(docLink);\n",
              "        }\n",
              "      </script>\n",
              "    </div>\n",
              "  </div>\n",
              "  "
            ],
            "text/plain": [
              "     index    No_Articulo                                 Contenido_Articulo  \\\n",
              "0        0    Artículo 1.  Artículo 1. Publicidad de proyectos de pliegos...   \n",
              "1        1   Artículo 11.  Artículo 11. Menor Cuantía. Para la celebració...   \n",
              "2        2   Artículo 12.  Artículo 12. Del sistema de conformación dinám...   \n",
              "3        3   Artículo 13.  Artículo 13. De los contratos de prestación de...   \n",
              "4        4   Artículo 14.  Artículo 14. Modificado por el art. 1, Decreto...   \n",
              "..     ...            ...                                                ...   \n",
              "660     84  ARTÍCULO 81º.  ARTÍCULO 81º. De la Derogatoria y de la Vigenc...   \n",
              "661     85   ARTÍCULO 8º.  ARTÍCULO 8º. De las Inhabilidades e Incompatib...   \n",
              "662     86   ARTÍCULO 9A.  ARTÍCULO 9A. Adicionado por el art. 8, Ley 201...   \n",
              "663     87   ARTÍCULO 9º.  ARTÍCULO 9º. De las Inhabilidades e Incompatib...   \n",
              "664     88   Introduccion  Ley80de1993GestorNormativo Departamento Admini...   \n",
              "\n",
              "                    Norma  \n",
              "0    Decreto_2170_de_2002  \n",
              "1    Decreto_2170_de_2002  \n",
              "2    Decreto_2170_de_2002  \n",
              "3    Decreto_2170_de_2002  \n",
              "4    Decreto_2170_de_2002  \n",
              "..                    ...  \n",
              "660        Ley_80_de_1993  \n",
              "661        Ley_80_de_1993  \n",
              "662        Ley_80_de_1993  \n",
              "663        Ley_80_de_1993  \n",
              "664        Ley_80_de_1993  \n",
              "\n",
              "[665 rows x 4 columns]"
            ]
          },
          "execution_count": 6,
          "metadata": {},
          "output_type": "execute_result"
        }
      ],
      "source": [
        "Norma"
      ]
    },
    {
      "cell_type": "markdown",
      "metadata": {
        "id": "pD3qgwuFt-XJ"
      },
      "source": [
        "- Limpieza de columnas que no influyen en el análisis "
      ]
    },
    {
      "cell_type": "code",
      "execution_count": null,
      "metadata": {
        "colab": {
          "base_uri": "https://localhost:8080/",
          "height": 424
        },
        "id": "3jNGKDRIIECZ",
        "outputId": "f80b236f-6c38-4a7a-c312-fc92078d6ddc"
      },
      "outputs": [
        {
          "data": {
            "text/html": [
              "\n",
              "  <div id=\"df-5b56e466-8df4-4cb9-b088-aa0ee5839680\">\n",
              "    <div class=\"colab-df-container\">\n",
              "      <div>\n",
              "<style scoped>\n",
              "    .dataframe tbody tr th:only-of-type {\n",
              "        vertical-align: middle;\n",
              "    }\n",
              "\n",
              "    .dataframe tbody tr th {\n",
              "        vertical-align: top;\n",
              "    }\n",
              "\n",
              "    .dataframe thead th {\n",
              "        text-align: right;\n",
              "    }\n",
              "</style>\n",
              "<table border=\"1\" class=\"dataframe\">\n",
              "  <thead>\n",
              "    <tr style=\"text-align: right;\">\n",
              "      <th></th>\n",
              "      <th>No_Articulo</th>\n",
              "      <th>Contenido_Articulo</th>\n",
              "      <th>Norma</th>\n",
              "    </tr>\n",
              "  </thead>\n",
              "  <tbody>\n",
              "    <tr>\n",
              "      <th>0</th>\n",
              "      <td>Artículo 1.</td>\n",
              "      <td>Artículo 1. Publicidad de proyectos de pliegos...</td>\n",
              "      <td>Decreto_2170_de_2002</td>\n",
              "    </tr>\n",
              "    <tr>\n",
              "      <th>1</th>\n",
              "      <td>Artículo 11.</td>\n",
              "      <td>Artículo 11. Menor Cuantía. Para la celebració...</td>\n",
              "      <td>Decreto_2170_de_2002</td>\n",
              "    </tr>\n",
              "    <tr>\n",
              "      <th>2</th>\n",
              "      <td>Artículo 12.</td>\n",
              "      <td>Artículo 12. Del sistema de conformación dinám...</td>\n",
              "      <td>Decreto_2170_de_2002</td>\n",
              "    </tr>\n",
              "    <tr>\n",
              "      <th>3</th>\n",
              "      <td>Artículo 13.</td>\n",
              "      <td>Artículo 13. De los contratos de prestación de...</td>\n",
              "      <td>Decreto_2170_de_2002</td>\n",
              "    </tr>\n",
              "    <tr>\n",
              "      <th>4</th>\n",
              "      <td>Artículo 14.</td>\n",
              "      <td>Artículo 14. Modificado por el art. 1, Decreto...</td>\n",
              "      <td>Decreto_2170_de_2002</td>\n",
              "    </tr>\n",
              "    <tr>\n",
              "      <th>...</th>\n",
              "      <td>...</td>\n",
              "      <td>...</td>\n",
              "      <td>...</td>\n",
              "    </tr>\n",
              "    <tr>\n",
              "      <th>660</th>\n",
              "      <td>ARTÍCULO 81º.</td>\n",
              "      <td>ARTÍCULO 81º. De la Derogatoria y de la Vigenc...</td>\n",
              "      <td>Ley_80_de_1993</td>\n",
              "    </tr>\n",
              "    <tr>\n",
              "      <th>661</th>\n",
              "      <td>ARTÍCULO 8º.</td>\n",
              "      <td>ARTÍCULO 8º. De las Inhabilidades e Incompatib...</td>\n",
              "      <td>Ley_80_de_1993</td>\n",
              "    </tr>\n",
              "    <tr>\n",
              "      <th>662</th>\n",
              "      <td>ARTÍCULO 9A.</td>\n",
              "      <td>ARTÍCULO 9A. Adicionado por el art. 8, Ley 201...</td>\n",
              "      <td>Ley_80_de_1993</td>\n",
              "    </tr>\n",
              "    <tr>\n",
              "      <th>663</th>\n",
              "      <td>ARTÍCULO 9º.</td>\n",
              "      <td>ARTÍCULO 9º. De las Inhabilidades e Incompatib...</td>\n",
              "      <td>Ley_80_de_1993</td>\n",
              "    </tr>\n",
              "    <tr>\n",
              "      <th>664</th>\n",
              "      <td>Introduccion</td>\n",
              "      <td>Ley80de1993GestorNormativo Departamento Admini...</td>\n",
              "      <td>Ley_80_de_1993</td>\n",
              "    </tr>\n",
              "  </tbody>\n",
              "</table>\n",
              "<p>665 rows × 3 columns</p>\n",
              "</div>\n",
              "      <button class=\"colab-df-convert\" onclick=\"convertToInteractive('df-5b56e466-8df4-4cb9-b088-aa0ee5839680')\"\n",
              "              title=\"Convert this dataframe to an interactive table.\"\n",
              "              style=\"display:none;\">\n",
              "        \n",
              "  <svg xmlns=\"http://www.w3.org/2000/svg\" height=\"24px\"viewBox=\"0 0 24 24\"\n",
              "       width=\"24px\">\n",
              "    <path d=\"M0 0h24v24H0V0z\" fill=\"none\"/>\n",
              "    <path d=\"M18.56 5.44l.94 2.06.94-2.06 2.06-.94-2.06-.94-.94-2.06-.94 2.06-2.06.94zm-11 1L8.5 8.5l.94-2.06 2.06-.94-2.06-.94L8.5 2.5l-.94 2.06-2.06.94zm10 10l.94 2.06.94-2.06 2.06-.94-2.06-.94-.94-2.06-.94 2.06-2.06.94z\"/><path d=\"M17.41 7.96l-1.37-1.37c-.4-.4-.92-.59-1.43-.59-.52 0-1.04.2-1.43.59L10.3 9.45l-7.72 7.72c-.78.78-.78 2.05 0 2.83L4 21.41c.39.39.9.59 1.41.59.51 0 1.02-.2 1.41-.59l7.78-7.78 2.81-2.81c.8-.78.8-2.07 0-2.86zM5.41 20L4 18.59l7.72-7.72 1.47 1.35L5.41 20z\"/>\n",
              "  </svg>\n",
              "      </button>\n",
              "      \n",
              "  <style>\n",
              "    .colab-df-container {\n",
              "      display:flex;\n",
              "      flex-wrap:wrap;\n",
              "      gap: 12px;\n",
              "    }\n",
              "\n",
              "    .colab-df-convert {\n",
              "      background-color: #E8F0FE;\n",
              "      border: none;\n",
              "      border-radius: 50%;\n",
              "      cursor: pointer;\n",
              "      display: none;\n",
              "      fill: #1967D2;\n",
              "      height: 32px;\n",
              "      padding: 0 0 0 0;\n",
              "      width: 32px;\n",
              "    }\n",
              "\n",
              "    .colab-df-convert:hover {\n",
              "      background-color: #E2EBFA;\n",
              "      box-shadow: 0px 1px 2px rgba(60, 64, 67, 0.3), 0px 1px 3px 1px rgba(60, 64, 67, 0.15);\n",
              "      fill: #174EA6;\n",
              "    }\n",
              "\n",
              "    [theme=dark] .colab-df-convert {\n",
              "      background-color: #3B4455;\n",
              "      fill: #D2E3FC;\n",
              "    }\n",
              "\n",
              "    [theme=dark] .colab-df-convert:hover {\n",
              "      background-color: #434B5C;\n",
              "      box-shadow: 0px 1px 3px 1px rgba(0, 0, 0, 0.15);\n",
              "      filter: drop-shadow(0px 1px 2px rgba(0, 0, 0, 0.3));\n",
              "      fill: #FFFFFF;\n",
              "    }\n",
              "  </style>\n",
              "\n",
              "      <script>\n",
              "        const buttonEl =\n",
              "          document.querySelector('#df-5b56e466-8df4-4cb9-b088-aa0ee5839680 button.colab-df-convert');\n",
              "        buttonEl.style.display =\n",
              "          google.colab.kernel.accessAllowed ? 'block' : 'none';\n",
              "\n",
              "        async function convertToInteractive(key) {\n",
              "          const element = document.querySelector('#df-5b56e466-8df4-4cb9-b088-aa0ee5839680');\n",
              "          const dataTable =\n",
              "            await google.colab.kernel.invokeFunction('convertToInteractive',\n",
              "                                                     [key], {});\n",
              "          if (!dataTable) return;\n",
              "\n",
              "          const docLinkHtml = 'Like what you see? Visit the ' +\n",
              "            '<a target=\"_blank\" href=https://colab.research.google.com/notebooks/data_table.ipynb>data table notebook</a>'\n",
              "            + ' to learn more about interactive tables.';\n",
              "          element.innerHTML = '';\n",
              "          dataTable['output_type'] = 'display_data';\n",
              "          await google.colab.output.renderOutput(dataTable, element);\n",
              "          const docLink = document.createElement('div');\n",
              "          docLink.innerHTML = docLinkHtml;\n",
              "          element.appendChild(docLink);\n",
              "        }\n",
              "      </script>\n",
              "    </div>\n",
              "  </div>\n",
              "  "
            ],
            "text/plain": [
              "       No_Articulo                                 Contenido_Articulo  \\\n",
              "0      Artículo 1.  Artículo 1. Publicidad de proyectos de pliegos...   \n",
              "1     Artículo 11.  Artículo 11. Menor Cuantía. Para la celebració...   \n",
              "2     Artículo 12.  Artículo 12. Del sistema de conformación dinám...   \n",
              "3     Artículo 13.  Artículo 13. De los contratos de prestación de...   \n",
              "4     Artículo 14.  Artículo 14. Modificado por el art. 1, Decreto...   \n",
              "..             ...                                                ...   \n",
              "660  ARTÍCULO 81º.  ARTÍCULO 81º. De la Derogatoria y de la Vigenc...   \n",
              "661   ARTÍCULO 8º.  ARTÍCULO 8º. De las Inhabilidades e Incompatib...   \n",
              "662   ARTÍCULO 9A.  ARTÍCULO 9A. Adicionado por el art. 8, Ley 201...   \n",
              "663   ARTÍCULO 9º.  ARTÍCULO 9º. De las Inhabilidades e Incompatib...   \n",
              "664   Introduccion  Ley80de1993GestorNormativo Departamento Admini...   \n",
              "\n",
              "                    Norma  \n",
              "0    Decreto_2170_de_2002  \n",
              "1    Decreto_2170_de_2002  \n",
              "2    Decreto_2170_de_2002  \n",
              "3    Decreto_2170_de_2002  \n",
              "4    Decreto_2170_de_2002  \n",
              "..                    ...  \n",
              "660        Ley_80_de_1993  \n",
              "661        Ley_80_de_1993  \n",
              "662        Ley_80_de_1993  \n",
              "663        Ley_80_de_1993  \n",
              "664        Ley_80_de_1993  \n",
              "\n",
              "[665 rows x 3 columns]"
            ]
          },
          "execution_count": 7,
          "metadata": {},
          "output_type": "execute_result"
        }
      ],
      "source": [
        "Norma.drop(['index'], axis = 'columns', inplace=True)\n",
        "Norma"
      ]
    },
    {
      "cell_type": "markdown",
      "metadata": {
        "id": "F5SLJO8TuNTm"
      },
      "source": [
        "- Copia del dataframe original. "
      ]
    },
    {
      "cell_type": "code",
      "execution_count": null,
      "metadata": {
        "id": "EtpjjNf-HGMJ"
      },
      "outputs": [],
      "source": [
        "Norma1=Norma.copy()"
      ]
    },
    {
      "cell_type": "markdown",
      "metadata": {
        "id": "Gqq9hyWiuRVx"
      },
      "source": [
        "- Función para la aplicación del steaming al corpus del texto. "
      ]
    },
    {
      "cell_type": "code",
      "execution_count": null,
      "metadata": {
        "id": "JfPyqdb-0rZi"
      },
      "outputs": [],
      "source": [
        "def steamer(Corpus):\n",
        "        \n",
        "  Corpus=[i.lower() for i in Corpus]\n",
        "  stem=SnowballStemmer('spanish')\n",
        "  \n",
        "  #Corpus=[' '.join([j for j in i.split() if  j not in stopwords])  for i in Corpus]\n",
        "  \n",
        "  Corpus=[' '.join([stem.stem(j) for j in i.split()]) for i in Corpus]\n",
        "  return Corpus"
      ]
    },
    {
      "cell_type": "markdown",
      "metadata": {
        "id": "P9iBAlwAw600"
      },
      "source": [
        "- Ciclo con la funcion de guardar las normas en minúscula, en una lista. "
      ]
    },
    {
      "cell_type": "code",
      "execution_count": null,
      "metadata": {
        "id": "dk8hHjtunCK2",
        "jupyter": {
          "outputs_hidden": true
        },
        "tags": []
      },
      "outputs": [],
      "source": [
        "Norma2 = []\n",
        "for j,i in enumerate(Norma1[\"Contenido_Articulo\"]):\n",
        "    if type(i)==str:\n",
        "        Norma2.append(i.lower()) \n",
        "    #print(j)"
      ]
    },
    {
      "cell_type": "markdown",
      "metadata": {
        "id": "KK48jJWrxFg8"
      },
      "source": [
        "- Ciclo para agregar una columna al dataframe con el steaming aplicado. "
      ]
    },
    {
      "cell_type": "code",
      "execution_count": null,
      "metadata": {
        "id": "rliebzrI2e9R"
      },
      "outputs": [],
      "source": [
        "for i in range (len(Norma1['Contenido_Articulo'])):\n",
        "  Norma1['Contenido_Articulo'][i] =pd.Series(Norma1['Contenido_Articulo'][i])\n",
        "  Corpus= steamer(Norma1['Contenido_Articulo'][i])\n",
        "  Norma1['Contenido_Articulo'][i]= Corpus[0]\n"
      ]
    },
    {
      "cell_type": "code",
      "execution_count": null,
      "metadata": {
        "colab": {
          "base_uri": "https://localhost:8080/"
        },
        "id": "E7uk6n4yLSsb",
        "outputId": "20a1955a-7754-43bc-a926-483f5026f379"
      },
      "outputs": [
        {
          "name": "stdout",
          "output_type": "stream",
          "text": [
            "665\n"
          ]
        }
      ],
      "source": [
        "print(len(Norma1))"
      ]
    },
    {
      "cell_type": "code",
      "execution_count": null,
      "metadata": {
        "id": "Pv5NOBxqnCK2"
      },
      "outputs": [],
      "source": [
        "len(Norma2)"
      ]
    },
    {
      "cell_type": "markdown",
      "metadata": {
        "id": "V8cwBggTxXZK"
      },
      "source": [
        "- Ciclo para formar una lista de la norma sin stopwords y en minúscula. "
      ]
    },
    {
      "cell_type": "code",
      "execution_count": null,
      "metadata": {
        "id": "-_hnsd4EnCK3"
      },
      "outputs": [],
      "source": [
        "Normasinparada=[]\n",
        "for i,noti in enumerate(Norma2):\n",
        "    Normasinparada.append([j.lower() for j in noti.split() if not j.lower() in stopwords and len(j)>1])"
      ]
    },
    {
      "cell_type": "code",
      "execution_count": null,
      "metadata": {
        "id": "8gQBPTk_nCK4"
      },
      "outputs": [],
      "source": [
        "Normasinparada2=[' '.join(i) for i in Normasinparada]\n",
        "len(Normasinparada2)"
      ]
    },
    {
      "cell_type": "markdown",
      "metadata": {
        "id": "hcViGoPWyJmP"
      },
      "source": [
        "- Aplicación de vectorización por el metodo Tfidf"
      ]
    },
    {
      "cell_type": "code",
      "execution_count": null,
      "metadata": {
        "id": "NEQnenR1nCK4"
      },
      "outputs": [],
      "source": [
        "vectorizer = TfidfVectorizer()\n",
        "X = vectorizer.fit_transform(Normasinparada2)\n",
        "X"
      ]
    },
    {
      "cell_type": "code",
      "execution_count": null,
      "metadata": {
        "id": "b8QgJZJ5eUmK"
      },
      "outputs": [],
      "source": [
        "y = vectorizer.transform(Normasinparada2)\n",
        "y"
      ]
    },
    {
      "cell_type": "markdown",
      "metadata": {
        "id": "jl7hwgEcs7jn"
      },
      "source": [
        "* Distancia Euclidiana"
      ]
    },
    {
      "cell_type": "code",
      "execution_count": null,
      "metadata": {
        "id": "mzh6UmJdjnPT"
      },
      "outputs": [],
      "source": [
        "distancias_y = euclidean_distances(X,y)\n",
        "len(distancias_y)"
      ]
    },
    {
      "cell_type": "markdown",
      "metadata": {
        "id": "JJb1YXv_yoy9"
      },
      "source": [
        "- Agregar columna con el contenido sin steam. "
      ]
    },
    {
      "cell_type": "code",
      "execution_count": null,
      "metadata": {
        "id": "H0mvbJGgaX-o"
      },
      "outputs": [],
      "source": [
        "Norma1['Contenido_Articulo_Completo']=Norma['Contenido_Articulo']"
      ]
    },
    {
      "cell_type": "markdown",
      "metadata": {
        "id": "e9y44eeTy3LL"
      },
      "source": [
        "- Función para la busqueda de los artículos relacionados, partiendo frases clave. "
      ]
    },
    {
      "cell_type": "code",
      "execution_count": null,
      "metadata": {
        "id": "zgmi5-V38Js5"
      },
      "outputs": [],
      "source": [
        "\n",
        "def funcion_recomendacion(entrada, Number):\n",
        "  z=int(Number)\n",
        "  y=vectorizer.transform([entrada])\n",
        "  distancias_y=cosine_distances(X,y)  \n",
        "  ind=np.argsort(distancias_y,axis=0).reshape(Norma.shape[0])[:z]\n",
        "  return Norma1[['Norma','No_Articulo','Contenido_Articulo_Completo']].loc[ind]\n"
      ]
    },
    {
      "cell_type": "markdown",
      "metadata": {
        "id": "NdfLk_vdzNnD"
      },
      "source": [
        "- Ejecución del modelo de búsqueda. "
      ]
    },
    {
      "cell_type": "code",
      "execution_count": null,
      "metadata": {
        "id": "crVF0_PaAcJO"
      },
      "outputs": [],
      "source": [
        "interact(funcion_recomendacion,entrada=\"\", Number=['1', '2', '3', '4', '5', '6', '7', '8', '9', '10'])"
      ]
    },
    {
      "cell_type": "code",
      "execution_count": null,
      "metadata": {
        "id": "rScEzuosgB4x"
      },
      "outputs": [],
      "source": [
        "#z=int(Number)\n",
        "y=vectorizer.transform(['¿cuándo es un contrato de mínima cuantía?'])\n",
        "distancias_y=cosine_distances(X,y)  \n",
        "ind=np.argsort(distancias_y,axis=0).reshape(Norma.shape[0])[:20]\n",
        "Nor = Norma1[['Norma','No_Articulo','Contenido_Articulo_Completo']].loc[ind]"
      ]
    },
    {
      "cell_type": "code",
      "execution_count": null,
      "metadata": {
        "id": "zu8YuddYgnr0"
      },
      "outputs": [],
      "source": [
        "Nor"
      ]
    },
    {
      "cell_type": "code",
      "execution_count": null,
      "metadata": {
        "id": "njEc-7_6gu0h"
      },
      "outputs": [],
      "source": [
        "Nor.to_csv('SteamTfidf.csv', encoding='utf-8-sig')\n",
        "files.download('SteamTfidf.csv')"
      ]
    },
    {
      "cell_type": "code",
      "execution_count": null,
      "metadata": {
        "id": "gaPUWaZN5kaR"
      },
      "outputs": [],
      "source": [
        "text= \"\".join(Contenido_Articulo_Completo for Contenido_Articulo_Completo in Nor.Contenido_Articulo_Completo)"
      ]
    },
    {
      "cell_type": "code",
      "execution_count": null,
      "metadata": {
        "id": "lMdWscrz7ErX"
      },
      "outputs": [],
      "source": [
        "wordcloud = WordCloud(width=800, height=400, max_font_size=100, background_color=\"white\").generate(text)"
      ]
    },
    {
      "cell_type": "code",
      "execution_count": null,
      "metadata": {
        "id": "7uBx6ktJ79YN"
      },
      "outputs": [],
      "source": [
        "plt.figure(figsize=(12,10))\n",
        "plt.imshow(wordcloud, interpolation=\"bilinear\")\n",
        "plt.axis(\"off\")\n",
        "plt.show()"
      ]
    }
  ],
  "metadata": {
    "colab": {
      "provenance": []
    },
    "gpuClass": "standard",
    "kernelspec": {
      "display_name": "Python 3",
      "name": "python3"
    },
    "language_info": {
      "name": "python"
    }
  },
  "nbformat": 4,
  "nbformat_minor": 0
}
