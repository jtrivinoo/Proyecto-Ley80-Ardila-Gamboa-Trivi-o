{
  "cells": [
    {
      "cell_type": "markdown",
      "metadata": {
        "id": "uXbSgZZxNRAU"
      },
      "source": [
        "#Word2vec"
      ]
    },
    {
      "attachments": {},
      "cell_type": "markdown",
      "metadata": {},
      "source": [
        "__author__ = \"Andres Ardila, Johan Triviño, Jenny Gamboa\"\n",
        "__maintainer__ = \"Proyecto de Profundización\"\n",
        "__copyright__ = \"Copyright 2023\"\n",
        "__version__ = \"0.0.1\""
      ]
    },
    {
      "cell_type": "markdown",
      "metadata": {
        "id": "5gd_EsmFsxFs"
      },
      "source": [
        "Es una tecnica implementada para el procesamiento de lenguaje natural, haciendo uso de modelos de redes neuronales, con el fin de aprender asociaciones de palabras partiendo de un corpus de texto, detecta sinónimos y sugerencias de palabras adicionales. Representa cada palabra del texto como una posición de un vector. "
      ]
    },
    {
      "cell_type": "markdown",
      "metadata": {
        "id": "vfp2DPnBrATl"
      },
      "source": [
        "- Librerias requeridas para el modelo."
      ]
    },
    {
      "cell_type": "code",
      "execution_count": null,
      "metadata": {
        "colab": {
          "base_uri": "https://localhost:8080/"
        },
        "id": "zoCeYPIvwOYH",
        "outputId": "4915e704-d916-4349-9a94-62f9edd5e4f1"
      },
      "outputs": [
        {
          "name": "stdout",
          "output_type": "stream",
          "text": [
            "Looking in indexes: https://pypi.org/simple, https://us-python.pkg.dev/colab-wheels/public/simple/\n",
            "Requirement already satisfied: gensim in /usr/local/lib/python3.9/dist-packages (4.3.1)\n",
            "Requirement already satisfied: scipy>=1.7.0 in /usr/local/lib/python3.9/dist-packages (from gensim) (1.10.1)\n",
            "Requirement already satisfied: smart-open>=1.8.1 in /usr/local/lib/python3.9/dist-packages (from gensim) (6.3.0)\n",
            "Requirement already satisfied: numpy>=1.18.5 in /usr/local/lib/python3.9/dist-packages (from gensim) (1.22.4)\n"
          ]
        },
        {
          "name": "stderr",
          "output_type": "stream",
          "text": [
            "[nltk_data] Downloading package stopwords to /root/nltk_data...\n",
            "[nltk_data]   Unzipping corpora/stopwords.zip.\n"
          ]
        }
      ],
      "source": [
        "from __future__ import absolute_import, division, print_function\n",
        "\n",
        "import codecs\n",
        "import glob\n",
        "import logging\n",
        "import multiprocessing\n",
        "import os\n",
        "import pprint\n",
        "import re\n",
        "import string\n",
        "import pandas as pd\n",
        "\n",
        "import nltk\n",
        "!pip install gensim\n",
        "#import gensim.models.word2vec as w2v\n",
        "from gensim.test.utils import common_texts, get_tmpfile\n",
        "from gensim.models import Word2Vec as w2v\n",
        "from sklearn.manifold import TSNE\n",
        "import numpy as np\n",
        "import matplotlib.pyplot as plt\n",
        "import pandas as pd\n",
        "#import gensim\n",
        "from nltk.corpus import stopwords\n",
        "nltk.download(\"stopwords\")\n",
        "from ipywidgets import interact\n",
        "import ipywidgets as widgets\n",
        "from IPython.core.display import display,HTML\n",
        "from google.colab import files\n",
        "from wordcloud import WordCloud\n",
        "from sklearn.metrics import confusion_matrix"
      ]
    },
    {
      "cell_type": "markdown",
      "metadata": {
        "id": "r6P-ukO3mQsA"
      },
      "source": [
        "- Comunicación con drive \n",
        "\n",
        "\n"
      ]
    },
    {
      "cell_type": "code",
      "execution_count": null,
      "metadata": {
        "colab": {
          "base_uri": "https://localhost:8080/"
        },
        "id": "YImdqZRu4tlz",
        "outputId": "6059b463-13a8-4465-8517-4d9d185b52b0"
      },
      "outputs": [
        {
          "name": "stdout",
          "output_type": "stream",
          "text": [
            "Mounted at /content/drive\n"
          ]
        }
      ],
      "source": [
        "from google.colab import drive\n",
        "drive.mount('/content/drive')"
      ]
    },
    {
      "cell_type": "markdown",
      "metadata": {
        "id": "a2Jw3LThm4K8"
      },
      "source": [
        "- LLamado del archivo csv del normograma."
      ]
    },
    {
      "cell_type": "code",
      "execution_count": null,
      "metadata": {
        "id": "Ng3gySKU6A3g"
      },
      "outputs": [],
      "source": [
        "url =\"/content/drive/MyDrive/concatenado/procesado_normas.json\""
      ]
    },
    {
      "cell_type": "markdown",
      "metadata": {
        "id": "9EbDBgm-nI8S"
      },
      "source": [
        "- Encoding y dimenciones de los datos."
      ]
    },
    {
      "cell_type": "code",
      "execution_count": null,
      "metadata": {
        "colab": {
          "base_uri": "https://localhost:8080/"
        },
        "id": "QXLBalla6JT0",
        "outputId": "23064392-a745-4e12-9fc1-17a8cc5ecd73"
      },
      "outputs": [
        {
          "data": {
            "text/plain": [
              "(665, 4)"
            ]
          },
          "execution_count": 4,
          "metadata": {},
          "output_type": "execute_result"
        }
      ],
      "source": [
        "Norma=pd.read_json(url, encoding='utf-8-sig')\n",
        "Norma.shape"
      ]
    },
    {
      "cell_type": "code",
      "execution_count": null,
      "metadata": {
        "colab": {
          "base_uri": "https://localhost:8080/",
          "height": 424
        },
        "id": "mPTwIopH78Pe",
        "outputId": "eb0de90d-e614-4fa0-a5c9-90655cecd706"
      },
      "outputs": [
        {
          "data": {
            "text/html": [
              "\n",
              "  <div id=\"df-7b05e7cc-987d-46d6-81fe-665899941a78\">\n",
              "    <div class=\"colab-df-container\">\n",
              "      <div>\n",
              "<style scoped>\n",
              "    .dataframe tbody tr th:only-of-type {\n",
              "        vertical-align: middle;\n",
              "    }\n",
              "\n",
              "    .dataframe tbody tr th {\n",
              "        vertical-align: top;\n",
              "    }\n",
              "\n",
              "    .dataframe thead th {\n",
              "        text-align: right;\n",
              "    }\n",
              "</style>\n",
              "<table border=\"1\" class=\"dataframe\">\n",
              "  <thead>\n",
              "    <tr style=\"text-align: right;\">\n",
              "      <th></th>\n",
              "      <th>index</th>\n",
              "      <th>No_Articulo</th>\n",
              "      <th>Contenido_Articulo</th>\n",
              "      <th>Norma</th>\n",
              "    </tr>\n",
              "  </thead>\n",
              "  <tbody>\n",
              "    <tr>\n",
              "      <th>0</th>\n",
              "      <td>0</td>\n",
              "      <td>Artículo 1.</td>\n",
              "      <td>Artículo 1. Publicidad de proyectos de pliegos...</td>\n",
              "      <td>Decreto_2170_de_2002</td>\n",
              "    </tr>\n",
              "    <tr>\n",
              "      <th>1</th>\n",
              "      <td>1</td>\n",
              "      <td>Artículo 11.</td>\n",
              "      <td>Artículo 11. Menor Cuantía. Para la celebració...</td>\n",
              "      <td>Decreto_2170_de_2002</td>\n",
              "    </tr>\n",
              "    <tr>\n",
              "      <th>2</th>\n",
              "      <td>2</td>\n",
              "      <td>Artículo 12.</td>\n",
              "      <td>Artículo 12. Del sistema de conformación dinám...</td>\n",
              "      <td>Decreto_2170_de_2002</td>\n",
              "    </tr>\n",
              "    <tr>\n",
              "      <th>3</th>\n",
              "      <td>3</td>\n",
              "      <td>Artículo 13.</td>\n",
              "      <td>Artículo 13. De los contratos de prestación de...</td>\n",
              "      <td>Decreto_2170_de_2002</td>\n",
              "    </tr>\n",
              "    <tr>\n",
              "      <th>4</th>\n",
              "      <td>4</td>\n",
              "      <td>Artículo 14.</td>\n",
              "      <td>Artículo 14. Modificado por el art. 1, Decreto...</td>\n",
              "      <td>Decreto_2170_de_2002</td>\n",
              "    </tr>\n",
              "    <tr>\n",
              "      <th>...</th>\n",
              "      <td>...</td>\n",
              "      <td>...</td>\n",
              "      <td>...</td>\n",
              "      <td>...</td>\n",
              "    </tr>\n",
              "    <tr>\n",
              "      <th>660</th>\n",
              "      <td>84</td>\n",
              "      <td>ARTÍCULO 81º.</td>\n",
              "      <td>ARTÍCULO 81º. De la Derogatoria y de la Vigenc...</td>\n",
              "      <td>Ley_80_de_1993</td>\n",
              "    </tr>\n",
              "    <tr>\n",
              "      <th>661</th>\n",
              "      <td>85</td>\n",
              "      <td>ARTÍCULO 8º.</td>\n",
              "      <td>ARTÍCULO 8º. De las Inhabilidades e Incompatib...</td>\n",
              "      <td>Ley_80_de_1993</td>\n",
              "    </tr>\n",
              "    <tr>\n",
              "      <th>662</th>\n",
              "      <td>86</td>\n",
              "      <td>ARTÍCULO 9A.</td>\n",
              "      <td>ARTÍCULO 9A. Adicionado por el art. 8, Ley 201...</td>\n",
              "      <td>Ley_80_de_1993</td>\n",
              "    </tr>\n",
              "    <tr>\n",
              "      <th>663</th>\n",
              "      <td>87</td>\n",
              "      <td>ARTÍCULO 9º.</td>\n",
              "      <td>ARTÍCULO 9º. De las Inhabilidades e Incompatib...</td>\n",
              "      <td>Ley_80_de_1993</td>\n",
              "    </tr>\n",
              "    <tr>\n",
              "      <th>664</th>\n",
              "      <td>88</td>\n",
              "      <td>Introduccion</td>\n",
              "      <td>Ley80de1993GestorNormativo Departamento Admini...</td>\n",
              "      <td>Ley_80_de_1993</td>\n",
              "    </tr>\n",
              "  </tbody>\n",
              "</table>\n",
              "<p>665 rows × 4 columns</p>\n",
              "</div>\n",
              "      <button class=\"colab-df-convert\" onclick=\"convertToInteractive('df-7b05e7cc-987d-46d6-81fe-665899941a78')\"\n",
              "              title=\"Convert this dataframe to an interactive table.\"\n",
              "              style=\"display:none;\">\n",
              "        \n",
              "  <svg xmlns=\"http://www.w3.org/2000/svg\" height=\"24px\"viewBox=\"0 0 24 24\"\n",
              "       width=\"24px\">\n",
              "    <path d=\"M0 0h24v24H0V0z\" fill=\"none\"/>\n",
              "    <path d=\"M18.56 5.44l.94 2.06.94-2.06 2.06-.94-2.06-.94-.94-2.06-.94 2.06-2.06.94zm-11 1L8.5 8.5l.94-2.06 2.06-.94-2.06-.94L8.5 2.5l-.94 2.06-2.06.94zm10 10l.94 2.06.94-2.06 2.06-.94-2.06-.94-.94-2.06-.94 2.06-2.06.94z\"/><path d=\"M17.41 7.96l-1.37-1.37c-.4-.4-.92-.59-1.43-.59-.52 0-1.04.2-1.43.59L10.3 9.45l-7.72 7.72c-.78.78-.78 2.05 0 2.83L4 21.41c.39.39.9.59 1.41.59.51 0 1.02-.2 1.41-.59l7.78-7.78 2.81-2.81c.8-.78.8-2.07 0-2.86zM5.41 20L4 18.59l7.72-7.72 1.47 1.35L5.41 20z\"/>\n",
              "  </svg>\n",
              "      </button>\n",
              "      \n",
              "  <style>\n",
              "    .colab-df-container {\n",
              "      display:flex;\n",
              "      flex-wrap:wrap;\n",
              "      gap: 12px;\n",
              "    }\n",
              "\n",
              "    .colab-df-convert {\n",
              "      background-color: #E8F0FE;\n",
              "      border: none;\n",
              "      border-radius: 50%;\n",
              "      cursor: pointer;\n",
              "      display: none;\n",
              "      fill: #1967D2;\n",
              "      height: 32px;\n",
              "      padding: 0 0 0 0;\n",
              "      width: 32px;\n",
              "    }\n",
              "\n",
              "    .colab-df-convert:hover {\n",
              "      background-color: #E2EBFA;\n",
              "      box-shadow: 0px 1px 2px rgba(60, 64, 67, 0.3), 0px 1px 3px 1px rgba(60, 64, 67, 0.15);\n",
              "      fill: #174EA6;\n",
              "    }\n",
              "\n",
              "    [theme=dark] .colab-df-convert {\n",
              "      background-color: #3B4455;\n",
              "      fill: #D2E3FC;\n",
              "    }\n",
              "\n",
              "    [theme=dark] .colab-df-convert:hover {\n",
              "      background-color: #434B5C;\n",
              "      box-shadow: 0px 1px 3px 1px rgba(0, 0, 0, 0.15);\n",
              "      filter: drop-shadow(0px 1px 2px rgba(0, 0, 0, 0.3));\n",
              "      fill: #FFFFFF;\n",
              "    }\n",
              "  </style>\n",
              "\n",
              "      <script>\n",
              "        const buttonEl =\n",
              "          document.querySelector('#df-7b05e7cc-987d-46d6-81fe-665899941a78 button.colab-df-convert');\n",
              "        buttonEl.style.display =\n",
              "          google.colab.kernel.accessAllowed ? 'block' : 'none';\n",
              "\n",
              "        async function convertToInteractive(key) {\n",
              "          const element = document.querySelector('#df-7b05e7cc-987d-46d6-81fe-665899941a78');\n",
              "          const dataTable =\n",
              "            await google.colab.kernel.invokeFunction('convertToInteractive',\n",
              "                                                     [key], {});\n",
              "          if (!dataTable) return;\n",
              "\n",
              "          const docLinkHtml = 'Like what you see? Visit the ' +\n",
              "            '<a target=\"_blank\" href=https://colab.research.google.com/notebooks/data_table.ipynb>data table notebook</a>'\n",
              "            + ' to learn more about interactive tables.';\n",
              "          element.innerHTML = '';\n",
              "          dataTable['output_type'] = 'display_data';\n",
              "          await google.colab.output.renderOutput(dataTable, element);\n",
              "          const docLink = document.createElement('div');\n",
              "          docLink.innerHTML = docLinkHtml;\n",
              "          element.appendChild(docLink);\n",
              "        }\n",
              "      </script>\n",
              "    </div>\n",
              "  </div>\n",
              "  "
            ],
            "text/plain": [
              "     index    No_Articulo                                 Contenido_Articulo  \\\n",
              "0        0    Artículo 1.  Artículo 1. Publicidad de proyectos de pliegos...   \n",
              "1        1   Artículo 11.  Artículo 11. Menor Cuantía. Para la celebració...   \n",
              "2        2   Artículo 12.  Artículo 12. Del sistema de conformación dinám...   \n",
              "3        3   Artículo 13.  Artículo 13. De los contratos de prestación de...   \n",
              "4        4   Artículo 14.  Artículo 14. Modificado por el art. 1, Decreto...   \n",
              "..     ...            ...                                                ...   \n",
              "660     84  ARTÍCULO 81º.  ARTÍCULO 81º. De la Derogatoria y de la Vigenc...   \n",
              "661     85   ARTÍCULO 8º.  ARTÍCULO 8º. De las Inhabilidades e Incompatib...   \n",
              "662     86   ARTÍCULO 9A.  ARTÍCULO 9A. Adicionado por el art. 8, Ley 201...   \n",
              "663     87   ARTÍCULO 9º.  ARTÍCULO 9º. De las Inhabilidades e Incompatib...   \n",
              "664     88   Introduccion  Ley80de1993GestorNormativo Departamento Admini...   \n",
              "\n",
              "                    Norma  \n",
              "0    Decreto_2170_de_2002  \n",
              "1    Decreto_2170_de_2002  \n",
              "2    Decreto_2170_de_2002  \n",
              "3    Decreto_2170_de_2002  \n",
              "4    Decreto_2170_de_2002  \n",
              "..                    ...  \n",
              "660        Ley_80_de_1993  \n",
              "661        Ley_80_de_1993  \n",
              "662        Ley_80_de_1993  \n",
              "663        Ley_80_de_1993  \n",
              "664        Ley_80_de_1993  \n",
              "\n",
              "[665 rows x 4 columns]"
            ]
          },
          "execution_count": 5,
          "metadata": {},
          "output_type": "execute_result"
        }
      ],
      "source": [
        "Norma"
      ]
    },
    {
      "cell_type": "markdown",
      "metadata": {
        "id": "a3jdxDhPnLqA"
      },
      "source": [
        "- Limpieza de columnas que no influyen en el análisis "
      ]
    },
    {
      "cell_type": "code",
      "execution_count": null,
      "metadata": {
        "colab": {
          "base_uri": "https://localhost:8080/",
          "height": 424
        },
        "id": "WidQLnFi9lQb",
        "outputId": "51ac32cd-4b4f-4e39-e89d-cfc6c9ccde38"
      },
      "outputs": [
        {
          "data": {
            "text/html": [
              "\n",
              "  <div id=\"df-07c69812-8ac3-48c8-acfe-9fe08be3e211\">\n",
              "    <div class=\"colab-df-container\">\n",
              "      <div>\n",
              "<style scoped>\n",
              "    .dataframe tbody tr th:only-of-type {\n",
              "        vertical-align: middle;\n",
              "    }\n",
              "\n",
              "    .dataframe tbody tr th {\n",
              "        vertical-align: top;\n",
              "    }\n",
              "\n",
              "    .dataframe thead th {\n",
              "        text-align: right;\n",
              "    }\n",
              "</style>\n",
              "<table border=\"1\" class=\"dataframe\">\n",
              "  <thead>\n",
              "    <tr style=\"text-align: right;\">\n",
              "      <th></th>\n",
              "      <th>No_Articulo</th>\n",
              "      <th>Contenido_Articulo</th>\n",
              "      <th>Norma</th>\n",
              "    </tr>\n",
              "  </thead>\n",
              "  <tbody>\n",
              "    <tr>\n",
              "      <th>0</th>\n",
              "      <td>Artículo 1.</td>\n",
              "      <td>Artículo 1. Publicidad de proyectos de pliegos...</td>\n",
              "      <td>Decreto_2170_de_2002</td>\n",
              "    </tr>\n",
              "    <tr>\n",
              "      <th>1</th>\n",
              "      <td>Artículo 11.</td>\n",
              "      <td>Artículo 11. Menor Cuantía. Para la celebració...</td>\n",
              "      <td>Decreto_2170_de_2002</td>\n",
              "    </tr>\n",
              "    <tr>\n",
              "      <th>2</th>\n",
              "      <td>Artículo 12.</td>\n",
              "      <td>Artículo 12. Del sistema de conformación dinám...</td>\n",
              "      <td>Decreto_2170_de_2002</td>\n",
              "    </tr>\n",
              "    <tr>\n",
              "      <th>3</th>\n",
              "      <td>Artículo 13.</td>\n",
              "      <td>Artículo 13. De los contratos de prestación de...</td>\n",
              "      <td>Decreto_2170_de_2002</td>\n",
              "    </tr>\n",
              "    <tr>\n",
              "      <th>4</th>\n",
              "      <td>Artículo 14.</td>\n",
              "      <td>Artículo 14. Modificado por el art. 1, Decreto...</td>\n",
              "      <td>Decreto_2170_de_2002</td>\n",
              "    </tr>\n",
              "    <tr>\n",
              "      <th>...</th>\n",
              "      <td>...</td>\n",
              "      <td>...</td>\n",
              "      <td>...</td>\n",
              "    </tr>\n",
              "    <tr>\n",
              "      <th>660</th>\n",
              "      <td>ARTÍCULO 81º.</td>\n",
              "      <td>ARTÍCULO 81º. De la Derogatoria y de la Vigenc...</td>\n",
              "      <td>Ley_80_de_1993</td>\n",
              "    </tr>\n",
              "    <tr>\n",
              "      <th>661</th>\n",
              "      <td>ARTÍCULO 8º.</td>\n",
              "      <td>ARTÍCULO 8º. De las Inhabilidades e Incompatib...</td>\n",
              "      <td>Ley_80_de_1993</td>\n",
              "    </tr>\n",
              "    <tr>\n",
              "      <th>662</th>\n",
              "      <td>ARTÍCULO 9A.</td>\n",
              "      <td>ARTÍCULO 9A. Adicionado por el art. 8, Ley 201...</td>\n",
              "      <td>Ley_80_de_1993</td>\n",
              "    </tr>\n",
              "    <tr>\n",
              "      <th>663</th>\n",
              "      <td>ARTÍCULO 9º.</td>\n",
              "      <td>ARTÍCULO 9º. De las Inhabilidades e Incompatib...</td>\n",
              "      <td>Ley_80_de_1993</td>\n",
              "    </tr>\n",
              "    <tr>\n",
              "      <th>664</th>\n",
              "      <td>Introduccion</td>\n",
              "      <td>Ley80de1993GestorNormativo Departamento Admini...</td>\n",
              "      <td>Ley_80_de_1993</td>\n",
              "    </tr>\n",
              "  </tbody>\n",
              "</table>\n",
              "<p>665 rows × 3 columns</p>\n",
              "</div>\n",
              "      <button class=\"colab-df-convert\" onclick=\"convertToInteractive('df-07c69812-8ac3-48c8-acfe-9fe08be3e211')\"\n",
              "              title=\"Convert this dataframe to an interactive table.\"\n",
              "              style=\"display:none;\">\n",
              "        \n",
              "  <svg xmlns=\"http://www.w3.org/2000/svg\" height=\"24px\"viewBox=\"0 0 24 24\"\n",
              "       width=\"24px\">\n",
              "    <path d=\"M0 0h24v24H0V0z\" fill=\"none\"/>\n",
              "    <path d=\"M18.56 5.44l.94 2.06.94-2.06 2.06-.94-2.06-.94-.94-2.06-.94 2.06-2.06.94zm-11 1L8.5 8.5l.94-2.06 2.06-.94-2.06-.94L8.5 2.5l-.94 2.06-2.06.94zm10 10l.94 2.06.94-2.06 2.06-.94-2.06-.94-.94-2.06-.94 2.06-2.06.94z\"/><path d=\"M17.41 7.96l-1.37-1.37c-.4-.4-.92-.59-1.43-.59-.52 0-1.04.2-1.43.59L10.3 9.45l-7.72 7.72c-.78.78-.78 2.05 0 2.83L4 21.41c.39.39.9.59 1.41.59.51 0 1.02-.2 1.41-.59l7.78-7.78 2.81-2.81c.8-.78.8-2.07 0-2.86zM5.41 20L4 18.59l7.72-7.72 1.47 1.35L5.41 20z\"/>\n",
              "  </svg>\n",
              "      </button>\n",
              "      \n",
              "  <style>\n",
              "    .colab-df-container {\n",
              "      display:flex;\n",
              "      flex-wrap:wrap;\n",
              "      gap: 12px;\n",
              "    }\n",
              "\n",
              "    .colab-df-convert {\n",
              "      background-color: #E8F0FE;\n",
              "      border: none;\n",
              "      border-radius: 50%;\n",
              "      cursor: pointer;\n",
              "      display: none;\n",
              "      fill: #1967D2;\n",
              "      height: 32px;\n",
              "      padding: 0 0 0 0;\n",
              "      width: 32px;\n",
              "    }\n",
              "\n",
              "    .colab-df-convert:hover {\n",
              "      background-color: #E2EBFA;\n",
              "      box-shadow: 0px 1px 2px rgba(60, 64, 67, 0.3), 0px 1px 3px 1px rgba(60, 64, 67, 0.15);\n",
              "      fill: #174EA6;\n",
              "    }\n",
              "\n",
              "    [theme=dark] .colab-df-convert {\n",
              "      background-color: #3B4455;\n",
              "      fill: #D2E3FC;\n",
              "    }\n",
              "\n",
              "    [theme=dark] .colab-df-convert:hover {\n",
              "      background-color: #434B5C;\n",
              "      box-shadow: 0px 1px 3px 1px rgba(0, 0, 0, 0.15);\n",
              "      filter: drop-shadow(0px 1px 2px rgba(0, 0, 0, 0.3));\n",
              "      fill: #FFFFFF;\n",
              "    }\n",
              "  </style>\n",
              "\n",
              "      <script>\n",
              "        const buttonEl =\n",
              "          document.querySelector('#df-07c69812-8ac3-48c8-acfe-9fe08be3e211 button.colab-df-convert');\n",
              "        buttonEl.style.display =\n",
              "          google.colab.kernel.accessAllowed ? 'block' : 'none';\n",
              "\n",
              "        async function convertToInteractive(key) {\n",
              "          const element = document.querySelector('#df-07c69812-8ac3-48c8-acfe-9fe08be3e211');\n",
              "          const dataTable =\n",
              "            await google.colab.kernel.invokeFunction('convertToInteractive',\n",
              "                                                     [key], {});\n",
              "          if (!dataTable) return;\n",
              "\n",
              "          const docLinkHtml = 'Like what you see? Visit the ' +\n",
              "            '<a target=\"_blank\" href=https://colab.research.google.com/notebooks/data_table.ipynb>data table notebook</a>'\n",
              "            + ' to learn more about interactive tables.';\n",
              "          element.innerHTML = '';\n",
              "          dataTable['output_type'] = 'display_data';\n",
              "          await google.colab.output.renderOutput(dataTable, element);\n",
              "          const docLink = document.createElement('div');\n",
              "          docLink.innerHTML = docLinkHtml;\n",
              "          element.appendChild(docLink);\n",
              "        }\n",
              "      </script>\n",
              "    </div>\n",
              "  </div>\n",
              "  "
            ],
            "text/plain": [
              "       No_Articulo                                 Contenido_Articulo  \\\n",
              "0      Artículo 1.  Artículo 1. Publicidad de proyectos de pliegos...   \n",
              "1     Artículo 11.  Artículo 11. Menor Cuantía. Para la celebració...   \n",
              "2     Artículo 12.  Artículo 12. Del sistema de conformación dinám...   \n",
              "3     Artículo 13.  Artículo 13. De los contratos de prestación de...   \n",
              "4     Artículo 14.  Artículo 14. Modificado por el art. 1, Decreto...   \n",
              "..             ...                                                ...   \n",
              "660  ARTÍCULO 81º.  ARTÍCULO 81º. De la Derogatoria y de la Vigenc...   \n",
              "661   ARTÍCULO 8º.  ARTÍCULO 8º. De las Inhabilidades e Incompatib...   \n",
              "662   ARTÍCULO 9A.  ARTÍCULO 9A. Adicionado por el art. 8, Ley 201...   \n",
              "663   ARTÍCULO 9º.  ARTÍCULO 9º. De las Inhabilidades e Incompatib...   \n",
              "664   Introduccion  Ley80de1993GestorNormativo Departamento Admini...   \n",
              "\n",
              "                    Norma  \n",
              "0    Decreto_2170_de_2002  \n",
              "1    Decreto_2170_de_2002  \n",
              "2    Decreto_2170_de_2002  \n",
              "3    Decreto_2170_de_2002  \n",
              "4    Decreto_2170_de_2002  \n",
              "..                    ...  \n",
              "660        Ley_80_de_1993  \n",
              "661        Ley_80_de_1993  \n",
              "662        Ley_80_de_1993  \n",
              "663        Ley_80_de_1993  \n",
              "664        Ley_80_de_1993  \n",
              "\n",
              "[665 rows x 3 columns]"
            ]
          },
          "execution_count": 6,
          "metadata": {},
          "output_type": "execute_result"
        }
      ],
      "source": [
        "Norma.drop(['index'], axis = 'columns', inplace=True)\n",
        "Norma"
      ]
    },
    {
      "cell_type": "markdown",
      "metadata": {
        "id": "bsPGgkrtnQQw"
      },
      "source": [
        "- Definir el idioma de las stopwords en español"
      ]
    },
    {
      "cell_type": "code",
      "execution_count": null,
      "metadata": {
        "id": "EOOmc8sh0nEn"
      },
      "outputs": [],
      "source": [
        "stopwords = set(stopwords.words('spanish'))"
      ]
    },
    {
      "cell_type": "markdown",
      "metadata": {
        "id": "b5zSyJbco0wM"
      },
      "source": [
        "- Ciclos para la limpieza de los articulos, limpiando los caracteres especiales y las stopwords, y almacenarlas en una lista."
      ]
    },
    {
      "cell_type": "code",
      "execution_count": null,
      "metadata": {
        "id": "opBkYajmwOYc",
        "scrolled": true
      },
      "outputs": [],
      "source": [
        "articulos = list(Norma['Contenido_Articulo'])\n",
        "articulos_limpio = []\n",
        "#Eliminamos líneas vacías \n",
        "for i in range(len(articulos)):\n",
        "    art_limpio = []\n",
        "    for linea in articulos[i].split(\".\"):       \n",
        "          linea = bytes(linea, 'utf-8').decode('utf-8', 'ignore')\n",
        "          linea = \"\".join(c for c in linea if (c not in string.punctuation and c not in ['','¡','¿'])).lower()\n",
        "          linea = linea.split(\" \")\n",
        "          #Eliminamos stopwords\n",
        "          linea1=[]\n",
        "          for palabra in list(linea):\n",
        "              \n",
        "              if palabra not in stopwords and palabra not in string.punctuation:\n",
        "                  linea1.append(palabra)\n",
        "          art_limpio += linea1          \n",
        "          \n",
        "    articulos_limpio += [art_limpio]"
      ]
    },
    {
      "cell_type": "markdown",
      "metadata": {
        "id": "ln_pVI5dp897"
      },
      "source": [
        "- Vectorización de los artículos. "
      ]
    },
    {
      "cell_type": "code",
      "execution_count": null,
      "metadata": {
        "id": "CieeGiJ1wOZC"
      },
      "outputs": [],
      "source": [
        "art2vec = w2v(\n",
        "    articulos_limpio,\n",
        "    sg=1,\n",
        "    seed=1,\n",
        "    workers=multiprocessing.cpu_count(),\n",
        "    vector_size=256,\n",
        "    min_count=50,\n",
        "    window=12\n",
        ")"
      ]
    },
    {
      "cell_type": "markdown",
      "metadata": {
        "id": "Qvp0NZPmqtmH"
      },
      "source": [
        "- Concatenación de los artículos sin stopwords."
      ]
    },
    {
      "cell_type": "code",
      "execution_count": null,
      "metadata": {
        "id": "u3uw6Pv3jzuy"
      },
      "outputs": [],
      "source": [
        "labels = []\n",
        "for word in art2vec.wv.key_to_index:\n",
        "    labels.append(word)"
      ]
    },
    {
      "cell_type": "markdown",
      "metadata": {
        "id": "nJsKxAeCrRoR"
      },
      "source": [
        "- Funciones para separar texto y encontrar palabras similares"
      ]
    },
    {
      "cell_type": "code",
      "execution_count": null,
      "metadata": {
        "id": "DaaAsJIX3Ssf"
      },
      "outputs": [],
      "source": [
        "def septext(palabra):\n",
        "  palabra = str(palabra)\n",
        "  palabra = palabra.split(' ')\n",
        "  palab=['art']\n",
        "  count = 0\n",
        "  for pala in palabra:\n",
        "    if pala in labels:\n",
        "       count += 1\n",
        "       if count >1:\n",
        "        palab.append(pala)\n",
        "       else:\n",
        "         palab = [pala] \n",
        "\n",
        "  if len(palab) == 0:\n",
        "    palabra= 'art'\n",
        "  return palab\n",
        "\n",
        "def art2find(palabra): \n",
        "   \n",
        "  #palabra = septext(palabra)\n",
        "\n",
        "  similaresword=[i[0] for i in art2vec.wv.most_similar(positive=palabra)]\n",
        "  vword=art2vec.wv[palabra]\n",
        "  cercanas =[]\n",
        "  indices = []\n",
        "  for i in similaresword:\n",
        "    cercanas.append(i)   \n",
        "  \n",
        "  for j in cercanas:\n",
        "    str_match = list(filter(lambda x: palabra and j in x, articulos_limpio))    \n",
        "    for k in str_match:\n",
        "      ind = articulos_limpio.index(k)\n",
        "      if ind not in indices:\n",
        "        indices.append(ind)\n",
        "  \n",
        "  return indices"
      ]
    },
    {
      "cell_type": "markdown",
      "metadata": {
        "id": "AvTvNnoktRnb"
      },
      "source": [
        "- Función para la busqueda de los artículos relacionados, partiendo de frases clave. "
      ]
    },
    {
      "cell_type": "code",
      "execution_count": null,
      "metadata": {
        "id": "hc4uWNZ1bcup"
      },
      "outputs": [],
      "source": [
        "def funcion_recomendacionw2v(entrada, Number):\n",
        "  z=int(Number)\n",
        "  entrada= septext(entrada)\n",
        "  print(entrada)\n",
        "  y = art2find(entrada)\n",
        "  #print(y)\n",
        "  ind=np.argsort(y,axis=0)\n",
        "  return Norma[['Norma','No_Articulo', 'Contenido_Articulo']].loc[ind[0:20]]"
      ]
    },
    {
      "cell_type": "markdown",
      "metadata": {
        "id": "yfye-Kkrthfy"
      },
      "source": [
        "- Ejecución del modelo de búsqueda. "
      ]
    },
    {
      "cell_type": "code",
      "execution_count": null,
      "metadata": {
        "id": "cwac9K6MccT-"
      },
      "outputs": [],
      "source": [
        "interact(funcion_recomendacionw2v,entrada=\"¿cuándo es un contrato de mínima cuantía?\", Number=['1', '2', '3', '4', '5'])"
      ]
    },
    {
      "cell_type": "code",
      "execution_count": null,
      "metadata": {
        "id": "OgQKfmu7Rrve"
      },
      "outputs": [],
      "source": [
        " entrada= septext('¿cuándo es un contrato de mínima cuantía?')\n",
        " print(entrada)\n",
        " y = art2find(entrada)\n",
        "  #print(y)\n",
        " ind=np.argsort(y,axis=0)\n",
        " Nor = Norma[['Norma','No_Articulo', 'Contenido_Articulo']].loc[ind[0:20]]"
      ]
    },
    {
      "cell_type": "code",
      "execution_count": null,
      "metadata": {
        "id": "WHOZwFRmVffj"
      },
      "outputs": [],
      "source": [
        "Nor"
      ]
    },
    {
      "cell_type": "code",
      "execution_count": null,
      "metadata": {
        "id": "G5Pnmbr0Vigi"
      },
      "outputs": [],
      "source": [
        "Nor.to_csv('w2vec.csv', encoding='utf-8-sig')\n",
        "files.download('w2vec.csv')"
      ]
    },
    {
      "cell_type": "code",
      "execution_count": null,
      "metadata": {
        "id": "yZRXkPPA-bGt"
      },
      "outputs": [],
      "source": [
        "text= \"\".join(Contenido_Articulo for Contenido_Articulo in Nor.Contenido_Articulo)"
      ]
    },
    {
      "cell_type": "code",
      "execution_count": null,
      "metadata": {
        "id": "ldXoGGe1-yZS"
      },
      "outputs": [],
      "source": [
        "wordcloud = WordCloud(width=800, height=400, max_font_size=100, background_color=\"white\").generate(text)"
      ]
    },
    {
      "cell_type": "code",
      "execution_count": null,
      "metadata": {
        "id": "5ge8FhZ0-1od"
      },
      "outputs": [],
      "source": [
        "plt.figure(figsize=(12,10))\n",
        "plt.imshow(wordcloud, interpolation=\"bilinear\")\n",
        "plt.axis(\"off\")\n",
        "plt.show()"
      ]
    },
    {
      "cell_type": "code",
      "execution_count": null,
      "metadata": {
        "id": "Uf03DHTCCrmn"
      },
      "outputs": [],
      "source": []
    }
  ],
  "metadata": {
    "accelerator": "GPU",
    "colab": {
      "provenance": []
    },
    "gpuClass": "standard",
    "kernelspec": {
      "display_name": "Python 3",
      "name": "python3"
    },
    "language_info": {
      "name": "python"
    }
  },
  "nbformat": 4,
  "nbformat_minor": 0
}
